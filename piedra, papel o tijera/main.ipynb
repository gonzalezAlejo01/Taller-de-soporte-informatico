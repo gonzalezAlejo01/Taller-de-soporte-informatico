{
 "cells": [
  {
   "cell_type": "code",
   "execution_count": null,
   "metadata": {},
   "outputs": [],
   "source": [
    "import cv2\n",
    "import HandTrackingModule\n",
    "import random\n",
    " \n",
    "cap = cv2.VideoCapture(0)\n",
    "detector = HandTrackingModule.FindHands()\n",
    "pickUsuario = \"\"\n",
    "pickPC = \"\"\n",
    " \n",
    "while True:\n",
    "    succeed, img = cap.read()\n",
    "    posicionMano = detector.getPosition(img, range(21), draw=False)\n",
    "    levantados = [detector.little_finger_up(img), detector.ring_finger_up(img), detector.middle_finger_up(img), detector.index_finger_up(img)]\n",
    "    if levantados == [1, 1, 1, 1]:\n",
    "        pickUsuario = \"papel\"\n",
    "        pickPC = \"tijera\"\n",
    "    elif levantados == [0,0,1,1]:\n",
    "        pickUsuario = \"tijera\"\n",
    "        pickPC = \"piedra\"\n",
    "    elif levantados == [0,0,0,0]:\n",
    "        pickUsuario = \"piedra\"\n",
    "        pickPC = \"papel\"\n",
    "    else:\n",
    "        pickUsuario = \"Invalido\"\n",
    "        pickPC = \"n/a\"\n",
    " \n",
    "    if posicionMano:\n",
    "        user_choice_x, user_choice_y = posicionMano[0]\n",
    "        computer_choice_x = user_choice_x\n",
    "        computer_choice_y = user_choice_y + 30\n",
    "        cv2.putText(img, f\"Jugador: {pickUsuario}\", (user_choice_x, user_choice_y - 20), cv2.FONT_HERSHEY_SIMPLEX, 0.7,\n",
    "                    (0, 0, 255), 2)\n",
    "        cv2.putText(img, f\"Computadora: {pickPC}\", (computer_choice_x, computer_choice_y - 20),\n",
    "                    cv2.FONT_HERSHEY_SIMPLEX, 0.7, (0, 0, 255), 2)\n",
    "    cv2.imshow(\"Piedra, papel o tijera\", img)\n",
    " \n",
    "    if cv2.waitKey(10) == ord('q'):\n",
    "        break\n",
    " \n",
    "cap.release()\n",
    "cv2.destroyAllWindows()"
   ]
  }
 ],
 "metadata": {
  "language_info": {
   "name": "python"
  },
  "orig_nbformat": 4
 },
 "nbformat": 4,
 "nbformat_minor": 2
}
